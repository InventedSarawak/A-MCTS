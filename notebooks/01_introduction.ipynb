{
 "cells": [
  {
   "cell_type": "markdown",
   "id": "819797f2",
   "metadata": {},
   "source": [
    "# Adaptive Monte Carlo Tree Search (A-MCTS)\n",
    "\n",
    "This notebook provides an overview of the A-MCTS algorithm for temporal path discovery in Attributed Dynamic Graphs (ADGs).\n",
    "\n",
    "## What is A-MCTS?\n",
    "\n",
    "Adaptive Monte Carlo Tree Search (A-MCTS) is an algorithm designed for finding optimal paths in temporal networks with multiple constraints. \n",
    "\n",
    "Key features:\n",
    "- Incorporates a replay memory mechanism to improve search efficiency\n",
    "- Utilizes edge embeddings to capture structural similarities\n",
    "- Adapts search parameters based on past experience\n",
    "- Optimizes for multi-attribute constraints in dynamic environments"
   ]
  },
  {
   "cell_type": "markdown",
   "id": "f7860211",
   "metadata": {},
   "source": [
    "## Problem Statement\n",
    "\n",
    "**Goal**: Find the shortest path in a temporal network that satisfies a set of constraints.\n",
    "\n",
    "In temporal networks, edges are available only at specific time intervals, and they have multiple attributes (e.g., cost, time, reliability). The A-MCTS algorithm aims to find a path from a source node to a destination node that:\n",
    "\n",
    "1. Respects the temporal constraints (edges can only be traversed at valid times)\n",
    "2. Satisfies the attribute constraints (e.g., total cost below a certain threshold)\n",
    "3. Minimizes the path length\n",
    "\n",
    "This is a challenging problem because:\n",
    "- The search space is massive\n",
    "- Traditional search algorithms don't handle temporal constraints well\n",
    "- Multiple attribute constraints create a multi-objective optimization problem"
   ]
  },
  {
   "cell_type": "markdown",
   "id": "d00a2271",
   "metadata": {},
   "source": [
    "## Algorithm Components\n",
    "\n",
    "A-MCTS consists of several key components:\n",
    "\n",
    "1. **AttributedDynamicGraph**: Represents the temporal network with edges having attributes\n",
    "2. **TemporalPath**: Represents a path in the temporal network\n",
    "3. **EdgeEmbedding**: Creates embeddings for edges to capture structural similarity\n",
    "4. **ReplayMemory**: Stores past search experiences for efficient lookup\n",
    "5. **TreeNode**: Represents a node in the search tree\n",
    "6. **AMCTS**: The main algorithm that orchestrates the search process\n",
    "\n",
    "Let's import the necessary components for this demonstration:"
   ]
  },
  {
   "cell_type": "code",
   "execution_count": 1,
   "id": "7c6d05aa",
   "metadata": {},
   "outputs": [],
   "source": [
    "# Import required modules\n",
    "import sys\n",
    "import os\n",
    "import numpy as np\n",
    "import matplotlib.pyplot as plt\n",
    "import networkx as nx\n",
    "\n",
    "# Add the project root to sys.path\n",
    "# This is necessary to import modules from the src directory\n",
    "sys.path.append(os.path.abspath('..'))\n",
    "\n",
    "# Import project modules\n",
    "from src.graph import AttributedDynamicGraph, TemporalPath\n",
    "from src.embedding import EdgeEmbedding\n",
    "from src.memory import ReplayMemory\n",
    "from src.amcts import TreeNode, AMCTS"
   ]
  },
  {
   "cell_type": "markdown",
   "id": "53a8aa4c",
   "metadata": {},
   "source": [
    "## How A-MCTS Works\n",
    "\n",
    "The algorithm follows the standard MCTS procedure with some adaptations:\n",
    "\n",
    "1. **Selection**: Use the UCT (Upper Confidence bounds applied to Trees) formula to select nodes for expansion, but with an adaptive exploration weight.\n",
    "\n",
    "2. **Expansion**: Expand the selected node by trying a new action.\n",
    "\n",
    "3. **Simulation**: Run a simulation from the expanded node until reaching a terminal state (destination or dead-end).\n",
    "\n",
    "4. **Backpropagation**: Update the statistics of all nodes in the path, including average reward and visit counts.\n",
    "\n",
    "The adaptations include:\n",
    "- Using a replay memory to store and retrieve past experiences\n",
    "- Incorporating edge embeddings to capture structural similarity\n",
    "- Using an adaptive exploration weight based on the node's statistics"
   ]
  },
  {
   "cell_type": "markdown",
   "id": "d94e9ee3",
   "metadata": {},
   "source": [
    "## Next Steps\n",
    "\n",
    "In the following notebooks, we'll explore:\n",
    "\n",
    "1. **Graph Representation**: How to create and work with Attributed Dynamic Graphs and Temporal Paths\n",
    "2. **A-MCTS Algorithm**: Details of the algorithm implementation with examples\n",
    "3. **Experiments**: Running experiments to evaluate the algorithm's performance\n",
    "\n",
    "Let's start with graph representation in the next notebook."
   ]
  }
 ],
 "metadata": {
  "kernelspec": {
   "display_name": "amcts",
   "language": "python",
   "name": "python3"
  },
  "language_info": {
   "codemirror_mode": {
    "name": "ipython",
    "version": 3
   },
   "file_extension": ".py",
   "mimetype": "text/x-python",
   "name": "python",
   "nbconvert_exporter": "python",
   "pygments_lexer": "ipython3",
   "version": "3.11.11"
  }
 },
 "nbformat": 4,
 "nbformat_minor": 5
}
