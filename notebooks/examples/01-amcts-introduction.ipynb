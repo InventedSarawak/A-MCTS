{
 "cells": [
  {
   "cell_type": "markdown",
   "id": "27d61909",
   "metadata": {},
   "source": [
    "# Introduction to A-MCTS (Adaptive Monte Carlo Tree Search)\n",
    "\n",
    "This notebook demonstrates how to use the A-MCTS algorithm for temporal path discovery, implemented directly in this notebook."
   ]
  },
  {
   "cell_type": "code",
   "execution_count": null,
   "id": "03158c25",
   "metadata": {},
   "outputs": [],
   "source": [
    "# Import necessary libraries\n",
    "import numpy as np\n",
    "import networkx as nx \n",
    "import matplotlib.pyplot as plt\n",
    "import pandas as pd\n",
    "from datetime import datetime\n",
    "import random"
   ]
  },
  {
   "cell_type": "markdown",
   "id": "9891cb55",
   "metadata": {},
   "source": [
    "## Next Steps\n",
    "\n",
    "In our implementation of A-MCTS, we need to complete:\n",
    "\n",
    "1. The selection strategy based on the paper\n",
    "2. The expansion method for new nodes\n",
    "3. The simulation strategy for evaluating paths\n",
    "4. The backpropagation mechanism for updating node values\n",
    "\n",
    "Each team member can focus on implementing one of these components within this notebook or create additional notebooks for specific aspects of the algorithm."
   ]
  }
 ],
 "metadata": {
  "kernelspec": {
   "display_name": "amcts",
   "language": "python",
   "name": "python3"
  },
  "language_info": {
   "codemirror_mode": {
    "name": "ipython",
    "version": 3
   },
   "file_extension": ".py",
   "mimetype": "text/x-python",
   "name": "python",
   "nbconvert_exporter": "python",
   "pygments_lexer": "ipython3",
   "version": "3.11.11"
  }
 },
 "nbformat": 4,
 "nbformat_minor": 5
}
